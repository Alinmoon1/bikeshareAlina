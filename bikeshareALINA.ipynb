{
 "cells": [
  {
   "cell_type": "code",
   "execution_count": 3,
   "id": "c1e12440-9953-4e7b-97c0-59a6dc20a265",
   "metadata": {},
   "outputs": [
    {
     "ename": "ModuleNotFoundError",
     "evalue": "No module named 'pandas'",
     "output_type": "error",
     "traceback": [
      "\u001b[1;31m---------------------------------------------------------------------------\u001b[0m",
      "\u001b[1;31mModuleNotFoundError\u001b[0m                       Traceback (most recent call last)",
      "\u001b[1;32mc:\\Users\\User\\Downloads\\alina (3).ipynb Ячейка 1\u001b[0m in \u001b[0;36m<cell line: 2>\u001b[1;34m()\u001b[0m\n\u001b[0;32m      <a href='vscode-notebook-cell:/c%3A/Users/User/Downloads/alina%20%283%29.ipynb#W0sZmlsZQ%3D%3D?line=0'>1</a>\u001b[0m \u001b[39mimport\u001b[39;00m \u001b[39mtime\u001b[39;00m\n\u001b[1;32m----> <a href='vscode-notebook-cell:/c%3A/Users/User/Downloads/alina%20%283%29.ipynb#W0sZmlsZQ%3D%3D?line=1'>2</a>\u001b[0m \u001b[39mimport\u001b[39;00m \u001b[39mpandas\u001b[39;00m \u001b[39mas\u001b[39;00m \u001b[39mpd\u001b[39;00m\n\u001b[0;32m      <a href='vscode-notebook-cell:/c%3A/Users/User/Downloads/alina%20%283%29.ipynb#W0sZmlsZQ%3D%3D?line=2'>3</a>\u001b[0m \u001b[39mimport\u001b[39;00m \u001b[39mnumpy\u001b[39;00m \u001b[39mas\u001b[39;00m \u001b[39mnp\u001b[39;00m\n\u001b[0;32m      <a href='vscode-notebook-cell:/c%3A/Users/User/Downloads/alina%20%283%29.ipynb#W0sZmlsZQ%3D%3D?line=4'>5</a>\u001b[0m CITY_DATA \u001b[39m=\u001b[39m {\u001b[39m\"\u001b[39m\u001b[39mchicago\u001b[39m\u001b[39m\"\u001b[39m: \u001b[39m\"\u001b[39m\u001b[39mchicago.csv\u001b[39m\u001b[39m\"\u001b[39m,\n\u001b[0;32m      <a href='vscode-notebook-cell:/c%3A/Users/User/Downloads/alina%20%283%29.ipynb#W0sZmlsZQ%3D%3D?line=5'>6</a>\u001b[0m     \u001b[39m\"\u001b[39m\u001b[39mnew york city\u001b[39m\u001b[39m\"\u001b[39m: \u001b[39m\"\u001b[39m\u001b[39mnew_york_city.csv\u001b[39m\u001b[39m\"\u001b[39m,\n\u001b[0;32m      <a href='vscode-notebook-cell:/c%3A/Users/User/Downloads/alina%20%283%29.ipynb#W0sZmlsZQ%3D%3D?line=6'>7</a>\u001b[0m     \u001b[39m\"\u001b[39m\u001b[39mwashington\u001b[39m\u001b[39m\"\u001b[39m: \u001b[39m\"\u001b[39m\u001b[39mwashington.csv\u001b[39m\u001b[39m\"\u001b[39m,}\n",
      "\u001b[1;31mModuleNotFoundError\u001b[0m: No module named 'pandas'"
     ]
    }
   ],
   "source": [
    "import time\n",
    "import pandas as pd\n",
    "\n",
    "\n",
    "CITY_DATA = {\"chicago\": \"chicago.csv\",\n",
    "    \"new york city\": \"new_york_city.csv\",\n",
    "    \"washington\": \"washington.csv\",}\n",
    "MONTH = ['january', 'february', 'march', 'april', 'may', 'june', 'all']\n",
    "DAYS = ['monday', 'tuesday', 'wednesday', 'thursday', 'friday', 'saturday', 'sunday', 'all']   \n",
    "\n",
    "\n",
    "def get_filters():\n",
    "    \"\"\"\n",
    "    Asks user to specify a city, month, and day to analyze. Be sure to make the input .lower()\n",
    "    Utilize while True: loops\n",
    "    Returns:\n",
    "        (str) city - name of the city to analyze\n",
    "        (str) month - name of the month to filter by, or \"all\" to apply no month filter\n",
    "        (str) day - name of the day of week to filter by, or \"all\" to apply no day filter\n",
    "    \"\"\"\n",
    "    print(\"Hey! Let's explore today bikeshare data!\")\n",
    "    # get user input for city (chicago, new york city, washington).\n",
    "    # HINT: Use a while loop to handle invalid inputs\n",
    "\n",
    "    while True:\n",
    "        city = input(\"Your City is: Chicago, New York City, Washington: \").lower()\n",
    "        if city not in [\"chicago\", \"new york city\", \"washington\"]:\n",
    "            print(\"I cant see this city,try again this command!\")\n",
    "            continue\n",
    "        else:\n",
    "            break\n",
    "\n",
    "    # get user input for month (all, january, february, ... , june)\n",
    "\n",
    "    while True:\n",
    "        month = input(\"Your Month is: All, January, February, March, April, May, or June: \").lower()\n",
    "        if month not in [\"all\", \"january\", \"february\", \"march\", \"april\", \"may\", \"june\"]:\n",
    "            print(\"I cant see this month, try again this command!\")\n",
    "            continue\n",
    "        else:\n",
    "            break\n",
    "\n",
    "    # get user input for day of week (all, monday, tuesday, ... sunday)\n",
    "\n",
    "    while True:\n",
    "        day = input(\"Your Day is: All, Monday, Tuesday, Wednesday, Thursday, Friday, Saturday, Sunday: \").lower()\n",
    "        if day not in [\"all\",\"monday\",\"tuesday\",\"wednesday\",\"thursday\",\"friday\",\"saturday\",\"sunday\",]:\n",
    "            print(\"i cant see this day, try again this command!\")\n",
    "            continue\n",
    "        else:\n",
    "            break\n",
    "\n",
    "    print(\"-\" * 40)\n",
    "    return city, month, day"
   ]
  },
  {
   "cell_type": "code",
   "execution_count": 1,
   "id": "c1556e8b-c2f1-4fdf-a83e-b04f68c5137d",
   "metadata": {},
   "outputs": [
    {
     "ename": "NameError",
     "evalue": "name 'get_filters' is not defined",
     "output_type": "error",
     "traceback": [
      "\u001b[1;31m---------------------------------------------------------------------------\u001b[0m",
      "\u001b[1;31mNameError\u001b[0m                                 Traceback (most recent call last)",
      "\u001b[1;32mc:\\Users\\User\\Downloads\\alina (3).ipynb Ячейка 2\u001b[0m in \u001b[0;36m<cell line: 1>\u001b[1;34m()\u001b[0m\n\u001b[1;32m----> <a href='vscode-notebook-cell:/c%3A/Users/User/Downloads/alina%20%283%29.ipynb#W1sZmlsZQ%3D%3D?line=0'>1</a>\u001b[0m city, month, day \u001b[39m=\u001b[39m get_filters()\n",
      "\u001b[1;31mNameError\u001b[0m: name 'get_filters' is not defined"
     ]
    }
   ],
   "source": []
  },
  {
   "cell_type": "code",
   "execution_count": 4,
   "id": "76ebf3c5-f890-4507-bb0f-7dcb72de7634",
   "metadata": {},
   "outputs": [
    {
     "ename": "NameError",
     "evalue": "name 'city' is not defined",
     "output_type": "error",
     "traceback": [
      "\u001b[1;31m---------------------------------------------------------------------------\u001b[0m",
      "\u001b[1;31mNameError\u001b[0m                                 Traceback (most recent call last)",
      "\u001b[1;32mc:\\Users\\User\\Downloads\\alina (3).ipynb Ячейка 3\u001b[0m in \u001b[0;36m<cell line: 1>\u001b[1;34m()\u001b[0m\n\u001b[1;32m----> <a href='vscode-notebook-cell:/c%3A/Users/User/Downloads/alina%20%283%29.ipynb#W2sZmlsZQ%3D%3D?line=0'>1</a>\u001b[0m city, month, day\n",
      "\u001b[1;31mNameError\u001b[0m: name 'city' is not defined"
     ]
    }
   ],
   "source": [
    "city, month, day"
   ]
  },
  {
   "cell_type": "code",
   "execution_count": 24,
   "id": "27e055ff-7819-4ce2-bce3-03d8f31a5b68",
   "metadata": {},
   "outputs": [],
   "source": [
    "def load_data(city, month, day):\n",
    "    \"\"\"\n",
    "    Loads data for the specified city and filters by month and day if applicable.\n",
    "    Args:\n",
    "        (str) city - name of the city to analyze\n",
    "        (str) month - name of the month to filter by, or \"all\" to apply no month filter\n",
    "        (str) day - name of the day of week to filter by, or \"all\" to apply no day filter\n",
    "        Returns:\n",
    "        df - Pandas DataFrame containing city data filtered by month and day\n",
    "    \"\"\"\n",
    "    # Retrieve and load correct city\n",
    "\n",
    "    df = pd.read_csv(CITY_DATA[city])\n",
    "\n",
    "    # Creates new columns for analysis\n",
    "    df[\"Start Time\"] = pd.to_datetime(df[\"Start Time\"])\n",
    "\n",
    "    df[\"month\"] = df[\"Start Time\"].dt.month\n",
    "    df[\"week_day\"] = df[\"Start Time\"].dt.day_name()\n",
    "    df[\"start_hour\"] = df[\"Start Time\"].dt.hour\n",
    "\n",
    "    # Filter by month\n",
    "\n",
    "    if month != \"all\":\n",
    "\n",
    "        # use the index of the months list to get the corresponding int\n",
    "\n",
    "        months = [\"january\", \"february\", \"march\", \"april\", \"may\", \"june\"]\n",
    "        month = months.index(month) + 1\n",
    "\n",
    "        # ilter by month to create the new dataframe\n",
    "\n",
    "        df = df[df[\"month\"] == month]\n",
    "\n",
    "    # Filter by weekday\n",
    "\n",
    "    if day != \"all\":\n",
    "        df = df[df[\"week_day\"] == day.title()]\n",
    "    return df"
   ]
  },
  {
   "cell_type": "code",
   "execution_count": 25,
   "id": "2cd5db96-d094-4453-9326-266f7f70dfe5",
   "metadata": {},
   "outputs": [],
   "source": [
    "df = load_data(city, month, day)"
   ]
  },
  {
   "cell_type": "code",
   "execution_count": 26,
   "id": "88d9ba83-6f88-45fa-b266-5395eeb641c7",
   "metadata": {},
   "outputs": [
    {
     "data": {
      "text/html": [
       "<div>\n",
       "<style scoped>\n",
       "    .dataframe tbody tr th:only-of-type {\n",
       "        vertical-align: middle;\n",
       "    }\n",
       "\n",
       "    .dataframe tbody tr th {\n",
       "        vertical-align: top;\n",
       "    }\n",
       "\n",
       "    .dataframe thead th {\n",
       "        text-align: right;\n",
       "    }\n",
       "</style>\n",
       "<table border=\"1\" class=\"dataframe\">\n",
       "  <thead>\n",
       "    <tr style=\"text-align: right;\">\n",
       "      <th></th>\n",
       "      <th>Unnamed: 0</th>\n",
       "      <th>Start Time</th>\n",
       "      <th>End Time</th>\n",
       "      <th>Trip Duration</th>\n",
       "      <th>Start Station</th>\n",
       "      <th>End Station</th>\n",
       "      <th>User Type</th>\n",
       "      <th>month</th>\n",
       "      <th>week_day</th>\n",
       "      <th>start_hour</th>\n",
       "    </tr>\n",
       "  </thead>\n",
       "  <tbody>\n",
       "    <tr>\n",
       "      <th>5</th>\n",
       "      <td>1148202</td>\n",
       "      <td>2017-05-14 07:18:18</td>\n",
       "      <td>2017-05-14 07:24:56</td>\n",
       "      <td>398.000</td>\n",
       "      <td>1st &amp; K St SE</td>\n",
       "      <td>Eastern Market Metro / Pennsylvania Ave &amp; 7th ...</td>\n",
       "      <td>Subscriber</td>\n",
       "      <td>5</td>\n",
       "      <td>Sunday</td>\n",
       "      <td>7</td>\n",
       "    </tr>\n",
       "    <tr>\n",
       "      <th>14</th>\n",
       "      <td>1308542</td>\n",
       "      <td>2017-05-28 03:50:26</td>\n",
       "      <td>2017-05-28 04:24:26</td>\n",
       "      <td>2039.472</td>\n",
       "      <td>Henry Bacon Dr &amp; Lincoln Memorial Circle NW</td>\n",
       "      <td>Lincoln Memorial</td>\n",
       "      <td>Customer</td>\n",
       "      <td>5</td>\n",
       "      <td>Sunday</td>\n",
       "      <td>3</td>\n",
       "    </tr>\n",
       "    <tr>\n",
       "      <th>64</th>\n",
       "      <td>1077673</td>\n",
       "      <td>2017-05-07 03:55:07</td>\n",
       "      <td>2017-05-07 04:14:50</td>\n",
       "      <td>1182.397</td>\n",
       "      <td>4th St &amp; Madison Dr NW</td>\n",
       "      <td>New York Ave &amp; 15th St NW</td>\n",
       "      <td>Customer</td>\n",
       "      <td>5</td>\n",
       "      <td>Sunday</td>\n",
       "      <td>3</td>\n",
       "    </tr>\n",
       "    <tr>\n",
       "      <th>66</th>\n",
       "      <td>1084077</td>\n",
       "      <td>2017-05-07 12:35:42</td>\n",
       "      <td>2017-05-07 01:20:29</td>\n",
       "      <td>2686.536</td>\n",
       "      <td>15th &amp; W St NW</td>\n",
       "      <td>Eastern Market Metro / Pennsylvania Ave &amp; 7th ...</td>\n",
       "      <td>Customer</td>\n",
       "      <td>5</td>\n",
       "      <td>Sunday</td>\n",
       "      <td>12</td>\n",
       "    </tr>\n",
       "    <tr>\n",
       "      <th>186</th>\n",
       "      <td>1082763</td>\n",
       "      <td>2017-05-07 11:10:44</td>\n",
       "      <td>2017-05-07 11:30:08</td>\n",
       "      <td>1164.403</td>\n",
       "      <td>M St &amp; Delaware Ave NE</td>\n",
       "      <td>14th &amp; D St NW / Ronald Reagan Building</td>\n",
       "      <td>Customer</td>\n",
       "      <td>5</td>\n",
       "      <td>Sunday</td>\n",
       "      <td>11</td>\n",
       "    </tr>\n",
       "  </tbody>\n",
       "</table>\n",
       "</div>"
      ],
      "text/plain": [
       "     Unnamed: 0          Start Time             End Time  Trip Duration  \\\n",
       "5       1148202 2017-05-14 07:18:18  2017-05-14 07:24:56        398.000   \n",
       "14      1308542 2017-05-28 03:50:26  2017-05-28 04:24:26       2039.472   \n",
       "64      1077673 2017-05-07 03:55:07  2017-05-07 04:14:50       1182.397   \n",
       "66      1084077 2017-05-07 12:35:42  2017-05-07 01:20:29       2686.536   \n",
       "186     1082763 2017-05-07 11:10:44  2017-05-07 11:30:08       1164.403   \n",
       "\n",
       "                                   Start Station  \\\n",
       "5                                  1st & K St SE   \n",
       "14   Henry Bacon Dr & Lincoln Memorial Circle NW   \n",
       "64                        4th St & Madison Dr NW   \n",
       "66                                15th & W St NW   \n",
       "186                       M St & Delaware Ave NE   \n",
       "\n",
       "                                           End Station   User Type  month  \\\n",
       "5    Eastern Market Metro / Pennsylvania Ave & 7th ...  Subscriber      5   \n",
       "14                                    Lincoln Memorial    Customer      5   \n",
       "64                           New York Ave & 15th St NW    Customer      5   \n",
       "66   Eastern Market Metro / Pennsylvania Ave & 7th ...    Customer      5   \n",
       "186            14th & D St NW / Ronald Reagan Building    Customer      5   \n",
       "\n",
       "    week_day  start_hour  \n",
       "5     Sunday           7  \n",
       "14    Sunday           3  \n",
       "64    Sunday           3  \n",
       "66    Sunday          12  \n",
       "186   Sunday          11  "
      ]
     },
     "execution_count": 26,
     "metadata": {},
     "output_type": "execute_result"
    }
   ],
   "source": [
    "df.head()"
   ]
  },
  {
   "cell_type": "code",
   "execution_count": 36,
   "id": "b543ab36-6ed6-4b59-920d-5708a1906349",
   "metadata": {},
   "outputs": [],
   "source": [
    "def time_stats(df):\n",
    "    \"\"\"\n",
    "    Displays statistics on the most frequent times of travel.\n",
    "    \"\"\"\n",
    "    print(\"\\nCalculating The Most Frequent Times of Travel...\\n\")\n",
    "    start_time = time.time()\n",
    "    # TO DO: display the most common month\n",
    "\n",
    "    common_month = df[\"month\"].mode()[0]\n",
    "    print(\"Most Common Month:\", common_month)\n",
    "\n",
    "    # TO DO: display the most common day of week\n",
    "\n",
    "    common_day = df[\"week_day\"].mode()[0]\n",
    "    print(\"Most Common Day Of Week:\", common_day)\n",
    "\n",
    "    # TO DO: display the most common start hour\n",
    "\n",
    "    сommon_hour = df[\"start_hour\"].mode()[0]\n",
    "    print(\"Most Common Start Hour:\", сommon_hour)\n",
    "\n",
    "    print(\"\\nThis took %s seconds.\" % (time.time() - start_time))\n",
    "    print(\"-\" * 40)"
   ]
  },
  {
   "cell_type": "code",
   "execution_count": 37,
   "id": "286ee6d2-e906-4763-9cb0-2d348e2629f0",
   "metadata": {},
   "outputs": [
    {
     "name": "stdout",
     "output_type": "stream",
     "text": [
      "\n",
      "Calculating The Most Frequent Times of Travel...\n",
      "\n",
      "Most Common Month: 5\n",
      "Most Common Day Of Week: Sunday\n",
      "Most Common Start Hour: 12\n",
      "\n",
      "This took 0.005983829498291016 seconds.\n",
      "----------------------------------------\n"
     ]
    }
   ],
   "source": [
    "time_stats(df)"
   ]
  },
  {
   "cell_type": "code",
   "execution_count": 39,
   "id": "6fa714d6-ffa9-4c03-b14b-5cefcb60ff0e",
   "metadata": {},
   "outputs": [],
   "source": [
    "def station_stats(df):\n",
    "    \"\"\"\n",
    "    Displays statistics on the most popular stations and trip.\n",
    "    \"\"\"\n",
    "    print(\"\\nCalculating The Most Popular Stations and Trip...\\n\")\n",
    "    start_time = time.time()\n",
    "\n",
    "    # display most commonly used start station\n",
    "\n",
    "    start_station = df[\"Start Station\"].mode()[0]\n",
    "    print(\"What is the most Start Station:\", start_station)\n",
    "    # display most commonly used end station\n",
    "\n",
    "    end_station = df[\"End Station\"].mode()[0]\n",
    "    print(\"What is the most End Station:\", end_station)\n",
    "\n",
    "    # display most frequent combination of start station and end station trip\n",
    "\n",
    "     frequent_comb = df.groupby([\"Start Station\", \"End Station\"]).size().idxmax()\n",
    "    print(\"The most frequent combination of start and end stations is: \", frequent_comb)\n",
    "\n",
    "    print(\"\\nThis took %s seconds.\" % (time.time() - start_time))\n",
    "    print(\"-\" * 40)"
   ]
  },
  {
   "cell_type": "code",
   "execution_count": 40,
   "id": "236e6081-1a83-440b-8387-d134583bc28a",
   "metadata": {},
   "outputs": [
    {
     "name": "stdout",
     "output_type": "stream",
     "text": [
      "\n",
      "Calculating The Most Popular Stations and Trip...\n",
      "\n",
      "Most Start Station: Lincoln Memorial\n",
      "Most End Station: Lincoln Memorial\n",
      "The most frequent combination of start station and end station trip is:  Jefferson Dr & 14th St SW Lincoln Memorial\n",
      "\n",
      "This took 0.00982046127319336 seconds.\n",
      "----------------------------------------\n"
     ]
    }
   ],
   "source": [
    "station_stats(df)"
   ]
  },
  {
   "cell_type": "code",
   "execution_count": 41,
   "id": "673a72f0-93df-40f2-a5df-cda55b3c1ddf",
   "metadata": {},
   "outputs": [],
   "source": [
    "def trip_duration_stats(df):\n",
    "    \"\"\"\n",
    "    Displays statistics on the total and average trip duration.\n",
    "    \"\"\"\n",
    "    print(\"\\nCalculating Trip Duration...\\n\")\n",
    "    start_time = time.time()\n",
    "    # display total travel time\n",
    "    total_time = df[\"Trip Duration\"].sum()\n",
    "    print(\"The total travel time is\", df[\"Trip Duration\"].sum(), \"\\n\")\n",
    "\n",
    "    # display mean travel time\n",
    "    av_time = df[\"Trip Duration\"].mean()\n",
    "    print(\"The total mean time is\", df[\"Trip Duration\"].mean())\n",
    "    print(\"\\nThis took %s seconds.\" % (time.time() - start_time))\n",
    "    print(\"-\" * 40)"
   ]
  },
  {
   "cell_type": "code",
   "execution_count": 42,
   "id": "632ef6e5-ae1d-4a64-b011-63c39edfeb6b",
   "metadata": {},
   "outputs": [
    {
     "name": "stdout",
     "output_type": "stream",
     "text": [
      "\n",
      "Calculating Trip Duration...\n",
      "\n",
      "The total travel time is 13630047.394 \n",
      "\n",
      "The total mean time is 1784.7384305355506\n",
      "\n",
      "This took 0.0 seconds.\n",
      "----------------------------------------\n"
     ]
    }
   ],
   "source": [
    "trip_duration_stats(df)"
   ]
  },
  {
   "cell_type": "code",
   "execution_count": 45,
   "id": "68a2a720-e815-4bc7-8fd0-022f7effdce7",
   "metadata": {},
   "outputs": [],
   "source": [
    "def user_stats(df):\n",
    "    \"\"\"Displays statistics on bikeshare users.\"\"\"\n",
    "\n",
    "    print(\"\\nCalculating User Stats...\\n\")\n",
    "    start_time = time.time()\n",
    "\n",
    "    # Display counts of user types\n",
    "\n",
    "    print(\"Counts of User Type Stats:\")\n",
    "    print(df[\"User Type\"].value_counts())\n",
    "    if \"Gender\" in df.columns:\n",
    "\n",
    "        # Display counts of gender\n",
    "        gen_count = dict(df[\"Gender\"].value_counts())\n",
    "        print(\"Counts of gender: \", gen_count)\n",
    "       \n",
    "\n",
    "        # Display earliest, most recent, and most common year of birth\n",
    "        a_earliest, a_recent, a_common = int(df[\"Birth Year\"].min()), int(df[\"Birth Year\"].max()), int(df[\"Birth Year\"].mean())\n",
    "        print(\"The Earliest year of birth is: {}, the most recent year of birth is: {}, the most common year of birth is {}\".format(a_earliest,a_recent,a_common))\n",
    "    else:\n",
    "        print(\"Error! we dont have some data about gender and birth year.\")\n",
    "\n",
    "\n",
    "        \n",
    "        print(\"\\nThis took %s seconds.\" % (time.time() - start_time))\n",
    "        print(\"-\" * 40)"
   ]
  },
  {
   "cell_type": "code",
   "execution_count": 46,
   "id": "4bf6d013-dce2-4792-a302-8266e2fd5804",
   "metadata": {},
   "outputs": [
    {
     "name": "stdout",
     "output_type": "stream",
     "text": [
      "\n",
      "Calculating User Stats...\n",
      "\n",
      "User Type Stats:\n",
      "Subscriber    3918\n",
      "Customer      3719\n",
      "Name: User Type, dtype: int64\n",
      "error! we haven't data about gender and birth year.\n",
      "\n",
      "This took 0.002997159957885742 seconds.\n",
      "----------------------------------------\n"
     ]
    }
   ],
   "source": [
    "user_stats(df)"
   ]
  },
  {
   "cell_type": "code",
   "execution_count": 47,
   "id": "d5169169-1a55-4530-876b-6c6b0473bdaf",
   "metadata": {},
   "outputs": [],
   "source": [
    "def display_raw(df):\n",
    "    \"\"\"Displays raw data if the users wishes to see it.\"\"\"\n",
    "    x = 0\n",
    "    while True:\n",
    "        raw = input(\"Do you want to see the raw data? Yes or No:  \")\n",
    "        if raw.lower() == \"yes\":\n",
    "            print(df[x : x + 5])\n",
    "            x = x + 5\n",
    "        else:\n",
    "            break"
   ]
  },
  {
   "cell_type": "code",
   "execution_count": 48,
   "id": "1e7104b4-3c52-4545-adae-ed945dab1578",
   "metadata": {},
   "outputs": [
    {
     "name": "stdout",
     "output_type": "stream",
     "text": [
      "Hello! Let's explore some US bikeshare data!\n"
     ]
    },
    {
     "name": "stdout",
     "output_type": "stream",
     "text": [
      "your City: Chicago, New York City, Washington:  chicago\n",
      "month: All, January, February, March, April, May, or June:  kk\n"
     ]
    },
    {
     "name": "stdout",
     "output_type": "stream",
     "text": [
      "I cant see this month, try again.\n"
     ]
    },
    {
     "name": "stdout",
     "output_type": "stream",
     "text": [
      "month: All, January, February, March, April, May, or June:  all\n",
      "Day: All, Monday, Tuesday, Wednesday, Thursday, Friday, Saturday, Sunday:  monday\n"
     ]
    },
    {
     "name": "stdout",
     "output_type": "stream",
     "text": [
      "----------------------------------------\n",
      "\n",
      "Calculating The Most Frequent Times of Travel...\n",
      "\n",
      "Most Common Month: 6\n",
      "Most Common Day Of Week: Monday\n",
      "Most Common Start Hour: 17\n",
      "\n",
      "This took 0.010113954544067383 seconds.\n",
      "----------------------------------------\n",
      "\n",
      "Calculating The Most Popular Stations and Trip...\n",
      "\n",
      "Most Start Station: Streeter Dr & Grand Ave\n",
      "Most End Station: Streeter Dr & Grand Ave\n",
      "The most frequent combination of start station and end station trip is:  Lake Shore Dr & Monroe St Streeter Dr & Grand Ave\n",
      "\n",
      "This took 0.032985687255859375 seconds.\n",
      "----------------------------------------\n",
      "\n",
      "Calculating Trip Duration...\n",
      "\n",
      "The total travel time is 39945856 \n",
      "\n",
      "The total mean time is 890.039348499365\n",
      "\n",
      "This took 0.0 seconds.\n",
      "----------------------------------------\n",
      "\n",
      "Calculating User Stats...\n",
      "\n",
      "User Type Stats:\n",
      "Subscriber    37316\n",
      "Customer       7565\n",
      "Name: User Type, dtype: int64\n",
      "Gender Stats:\n",
      "Male      28646\n",
      "Female     8689\n",
      "Name: Gender, dtype: int64\n",
      "birth year stats:\n",
      "\n",
      "Earliest Birth Year:\n",
      " 1899\n",
      "Most reacent Birth Year:\n",
      " 2016\n",
      "Most Common Birth Year:\n",
      " 1989\n"
     ]
    },
    {
     "name": "stdout",
     "output_type": "stream",
     "text": [
      "Do you want to see the raw data? Yes or No:   yes\n"
     ]
    },
    {
     "name": "stdout",
     "output_type": "stream",
     "text": [
      "    Unnamed: 0          Start Time             End Time  Trip Duration  \\\n",
      "3       304487 2017-03-06 13:49:38  2017-03-06 13:55:28            350   \n",
      "5      1473887 2017-06-26 09:01:20  2017-06-26 09:11:06            586   \n",
      "9       135470 2017-02-06 18:00:47  2017-02-06 18:09:00            493   \n",
      "32     1359055 2017-06-19 17:43:17  2017-06-19 17:59:35            978   \n",
      "36      165328 2017-02-13 14:17:25  2017-02-13 14:22:52            327   \n",
      "\n",
      "                    Start Station                   End Station   User Type  \\\n",
      "3   Christiana Ave & Lawrence Ave  St. Louis Ave & Balmoral Ave  Subscriber   \n",
      "5    Clinton St & Washington Blvd          Canal St & Taylor St  Subscriber   \n",
      "9    Stetson Ave & South Water St  Clinton St & Washington Blvd  Subscriber   \n",
      "32     Larrabee St & Armitage Ave   Dearborn Pkwy & Delaware Pl  Subscriber   \n",
      "36       University Ave & 57th St         Kimbark Ave & 53rd St  Subscriber   \n",
      "\n",
      "    Gender  Birth Year  month week_day  start_hour  \\\n",
      "3     Male      1986.0      3   Monday          13   \n",
      "5     Male      1990.0      6   Monday           9   \n",
      "9     Male      1979.0      2   Monday          18   \n",
      "32  Female      1993.0      6   Monday          17   \n",
      "36  Female      1984.0      2   Monday          14   \n",
      "\n",
      "                                                 trip  \n",
      "3   Christiana Ave & Lawrence Ave St. Louis Ave & ...  \n",
      "5   Clinton St & Washington Blvd Canal St & Taylor St  \n",
      "9   Stetson Ave & South Water St Clinton St & Wash...  \n",
      "32  Larrabee St & Armitage Ave Dearborn Pkwy & Del...  \n",
      "36     University Ave & 57th St Kimbark Ave & 53rd St  \n"
     ]
    },
    {
     "name": "stdout",
     "output_type": "stream",
     "text": [
      "Do you want to see the raw data? Yes or No:   yes\n"
     ]
    },
    {
     "name": "stdout",
     "output_type": "stream",
     "text": [
      "    Unnamed: 0          Start Time             End Time  Trip Duration  \\\n",
      "43      915409 2017-05-22 05:49:43  2017-05-22 05:51:15             92   \n",
      "47      371076 2017-03-20 21:27:24  2017-03-20 21:39:02            698   \n",
      "54      702079 2017-05-01 08:35:17  2017-05-01 08:49:02            825   \n",
      "58      265806 2017-02-27 07:20:11  2017-02-27 07:31:01            650   \n",
      "64      445106 2017-04-03 06:31:20  2017-04-03 06:43:33            733   \n",
      "\n",
      "                   Start Station                End Station   User Type  \\\n",
      "43      Clark St & Congress Pkwy  LaSalle St & Jackson Blvd  Subscriber   \n",
      "47           Morgan St & Lake St       Larrabee St & Oak St  Subscriber   \n",
      "54       Sedgwick St & North Ave      Michigan Ave & Oak St  Subscriber   \n",
      "58  Clinton St & Washington Blvd      Dearborn St & Erie St  Subscriber   \n",
      "64  Clinton St & Washington Blvd  Halsted St & Roosevelt Rd  Subscriber   \n",
      "\n",
      "   Gender  Birth Year  month week_day  start_hour  \\\n",
      "43   Male      1967.0      5   Monday           5   \n",
      "47   Male      1972.0      3   Monday          21   \n",
      "54   Male      1983.0      5   Monday           8   \n",
      "58   Male      1975.0      2   Monday           7   \n",
      "64   Male      1966.0      4   Monday           6   \n",
      "\n",
      "                                                 trip  \n",
      "43  Clark St & Congress Pkwy LaSalle St & Jackson ...  \n",
      "47           Morgan St & Lake St Larrabee St & Oak St  \n",
      "54      Sedgwick St & North Ave Michigan Ave & Oak St  \n",
      "58  Clinton St & Washington Blvd Dearborn St & Eri...  \n",
      "64  Clinton St & Washington Blvd Halsted St & Roos...  \n"
     ]
    },
    {
     "name": "stdout",
     "output_type": "stream",
     "text": [
      "Do you want to see the raw data? Yes or No:   no\n",
      "\n",
      "Would you like to restart? Enter yes or no.\n",
      " no\n"
     ]
    }
   ],
   "source": [
    "def main():\n",
    "    while True:\n",
    "        city, month, day = get_filters()\n",
    "        df = load_data(city, month, day)\n",
    "\n",
    "        time_stats(df)\n",
    "        station_stats(df)\n",
    "        trip_duration_stats(df)\n",
    "        user_stats(df)\n",
    "        display_raw(df)\n",
    "\n",
    "        restart = input(\"\\nWould you like to restart this data? Enter yes or no please.\\n\")\n",
    "        if restart.lower() != \"yes\":\n",
    "            break\n",
    "\n",
    "\n",
    "if __name__ == \"__main__\":\n",
    "    main()"
   ]
  },
  {
   "cell_type": "code",
   "execution_count": null,
   "id": "c94a3885-6e82-4d4c-b867-c5a1848e188f",
   "metadata": {},
   "outputs": [],
   "source": []
  }
 ],
 "metadata": {
  "kernelspec": {
   "display_name": "Python 3.10.5 64-bit",
   "language": "python",
   "name": "python3"
  },
  "language_info": {
   "codemirror_mode": {
    "name": "ipython",
    "version": 3
   },
   "file_extension": ".py",
   "mimetype": "text/x-python",
   "name": "python",
   "nbconvert_exporter": "python",
   "pygments_lexer": "ipython3",
   "version": "3.10.5"
  },
  "vscode": {
   "interpreter": {
    "hash": "afb734500600fd355917ca529030176ea0ca205570884b88f2f6f7d791fd3fbe"
   }
  }
 },
 "nbformat": 4,
 "nbformat_minor": 5
}
